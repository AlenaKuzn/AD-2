{
 "cells": [
  {
   "cell_type": "markdown",
   "id": "4c2a7f82",
   "metadata": {},
   "source": [
    "# Лабораторная работа 2"
   ]
  },
  {
   "cell_type": "markdown",
   "id": "21f33f75",
   "metadata": {},
   "source": [
    "## Введение в Pandas. Создание объекта Series в Pandas"
   ]
  },
  {
   "cell_type": "code",
   "execution_count": 1,
   "id": "399d9662",
   "metadata": {},
   "outputs": [],
   "source": [
    "import pandas as pd\n",
    "import numpy as np"
   ]
  },
  {
   "cell_type": "markdown",
   "id": "9b7d6076",
   "metadata": {},
   "source": [
    "### Задание 1"
   ]
  },
  {
   "cell_type": "markdown",
   "id": "7369b814",
   "metadata": {},
   "source": [
    "Создать объект Series из списка чисел [1, 2, 3] с метками [a, b, c] и вывести\n",
    "его на печать."
   ]
  },
  {
   "cell_type": "code",
   "execution_count": 11,
   "id": "c140643d",
   "metadata": {},
   "outputs": [
    {
     "name": "stdout",
     "output_type": "stream",
     "text": [
      "a    1\n",
      "b    2\n",
      "c    3\n",
      "dtype: int64\n"
     ]
    }
   ],
   "source": [
    "series = pd.Series([1, 2, 3], index = ['a', 'b', 'c'])\n",
    "\n",
    "print(series)"
   ]
  },
  {
   "cell_type": "markdown",
   "id": "1e85dca7",
   "metadata": {},
   "source": [
    "## Задание 2"
   ]
  },
  {
   "cell_type": "markdown",
   "id": "efcb6625",
   "metadata": {},
   "source": [
    "Создать объект Series из словаря {'a': 1, 'b': 2, 'c': 3} и вывести его на\n",
    "печать."
   ]
  },
  {
   "cell_type": "code",
   "execution_count": 12,
   "id": "141dba6c",
   "metadata": {},
   "outputs": [
    {
     "name": "stdout",
     "output_type": "stream",
     "text": [
      "a    1\n",
      "b    2\n",
      "c    3\n",
      "dtype: int64\n"
     ]
    }
   ],
   "source": [
    "my_dict = {'a': 1, 'b': 2, 'c': 3}\n",
    "series = pd.Series(my_dict)\n",
    "\n",
    "print(series)"
   ]
  },
  {
   "cell_type": "markdown",
   "id": "1846c1fd",
   "metadata": {},
   "source": [
    "## Задание 3"
   ]
  },
  {
   "cell_type": "markdown",
   "id": "78e3a982",
   "metadata": {},
   "source": [
    "Создать объект массива NumPy arr = [1, 2, 3, 4, 5] , затем из него создать\n",
    "объект Series и вывести его на печать."
   ]
  },
  {
   "cell_type": "code",
   "execution_count": 13,
   "id": "34fda15c",
   "metadata": {},
   "outputs": [
    {
     "name": "stdout",
     "output_type": "stream",
     "text": [
      "0    1\n",
      "1    2\n",
      "2    3\n",
      "3    4\n",
      "4    5\n",
      "dtype: int32\n"
     ]
    }
   ],
   "source": [
    "my_array = np.array([1, 2, 3, 4, 5])\n",
    "series = pd.Series(my_array)\n",
    "\n",
    "print(series)"
   ]
  },
  {
   "cell_type": "markdown",
   "id": "73b19c7c",
   "metadata": {},
   "source": [
    "## Задание 4"
   ]
  },
  {
   "cell_type": "markdown",
   "id": "fae7034a",
   "metadata": {},
   "source": [
    "Создать объект Series с заполнением по умолчанию значением 0 и метками [a, b,\n",
    "c] и вывести его на печать."
   ]
  },
  {
   "cell_type": "code",
   "execution_count": 14,
   "id": "7a287ce2",
   "metadata": {},
   "outputs": [
    {
     "name": "stdout",
     "output_type": "stream",
     "text": [
      "a    0\n",
      "b    0\n",
      "c    0\n",
      "dtype: int64\n"
     ]
    }
   ],
   "source": [
    "series = pd.Series(0, index = ['a', 'b', 'c'])\n",
    "\n",
    "print(series)"
   ]
  },
  {
   "cell_type": "markdown",
   "id": "70082d10",
   "metadata": {},
   "source": [
    "## Задание 5 "
   ]
  },
  {
   "cell_type": "markdown",
   "id": "fd3315ae",
   "metadata": {},
   "source": [
    "В первой строке ввода с клавиатуры поступает строка с символами разлепленными\n",
    "пробелом, во второй строка с целыми числами. На их основе создать список\n",
    "кортежей и из него объект Series, вывести его на печать."
   ]
  },
  {
   "cell_type": "code",
   "execution_count": 18,
   "id": "3bc80f4b",
   "metadata": {},
   "outputs": [
    {
     "name": "stdout",
     "output_type": "stream",
     "text": [
      "Введите строку с символами, разделенными пробелом: a j r y\n",
      "Введите строку целых чисел: 5 3 8 66\n",
      "0     (a, 5)\n",
      "1     (j, 3)\n",
      "2     (r, 8)\n",
      "3    (y, 66)\n",
      "dtype: object\n"
     ]
    }
   ],
   "source": [
    "s1 = input(\"Введите строку с символами, разделенными пробелом: \")\n",
    "s2 = input(\"Введите строку целых чисел: \")\n",
    "\n",
    "simv = tuple(str(item) for item in s1.split(' '))\n",
    "num = tuple(int(item) for item in s2.split(' '))\n",
    "\n",
    "my_dict = list(zip(simv, num))\n",
    "series = pd.Series(my_dict)\n",
    "\n",
    "print(series)"
   ]
  },
  {
   "cell_type": "markdown",
   "id": "312c3a39",
   "metadata": {},
   "source": [
    "## Задание 6\n"
   ]
  },
  {
   "cell_type": "markdown",
   "id": "5c9668a1",
   "metadata": {},
   "source": [
    "На вход поступает строка слов, разделенных пробелом. Создать на ее основе\n",
    "объект Series с метками 0, 1, 2,... Вывести его на печать."
   ]
  },
  {
   "cell_type": "code",
   "execution_count": 19,
   "id": "c4a86989",
   "metadata": {},
   "outputs": [
    {
     "name": "stdout",
     "output_type": "stream",
     "text": [
      "Введите слова через пробел: Hello my name Alena\n",
      "0    Hello\n",
      "1       my\n",
      "2     name\n",
      "3    Alena\n",
      "dtype: object\n"
     ]
    }
   ],
   "source": [
    "s = input(\"Введите слова через пробел: \")\n",
    "\n",
    "str = tuple(str(item) for item in s.split(' '))\n",
    "series = pd.Series(str)\n",
    "\n",
    "print(series)"
   ]
  },
  {
   "cell_type": "markdown",
   "id": "4328c662",
   "metadata": {},
   "source": [
    "## Задание 7"
   ]
  },
  {
   "cell_type": "markdown",
   "id": "3ddf898f",
   "metadata": {},
   "source": [
    "На вход поступает последовательность из чисел 0 и 1, разделенных пробелом.\n",
    "Создать на ее основе объект Series, содержащий булевы значения true (1) , false\n",
    "(0) c метками [a, b, c, d,...]"
   ]
  },
  {
   "cell_type": "code",
   "execution_count": 29,
   "id": "cd1f2e29",
   "metadata": {},
   "outputs": [
    {
     "name": "stdout",
     "output_type": "stream",
     "text": [
      "Введите последовательность из чисел 0 и 1: 0 1 1 0\n",
      "a    False\n",
      "b     True\n",
      "c     True\n",
      "d    False\n",
      "dtype: bool\n"
     ]
    }
   ],
   "source": [
    "s = input(\"Введите последовательность из чисел 0 и 1: \")\n",
    "str = list(map(int, s.split(\" \")))\n",
    "\n",
    "series = pd.Series(str, dtype = bool)\n",
    "series = series.rename(lambda x: chr(97 + x))\n",
    "\n",
    "print(series)"
   ]
  },
  {
   "cell_type": "markdown",
   "id": "7e388757",
   "metadata": {},
   "source": [
    "## Задание 8\n"
   ]
  },
  {
   "cell_type": "markdown",
   "id": "adfc9146",
   "metadata": {},
   "source": [
    "Создать объект Series из списка дат ['2022-01-01', '2022-01-02', '2022-01-03'] ,\n",
    "вывести его на печать. Даты в объекте Series должны быть представлены\n",
    "объектами datetime стандартной библиотеки языка программирования Python."
   ]
  },
  {
   "cell_type": "code",
   "execution_count": 32,
   "id": "85b07036",
   "metadata": {},
   "outputs": [
    {
     "name": "stdout",
     "output_type": "stream",
     "text": [
      "0   2022-01-01\n",
      "1   2022-01-02\n",
      "2   2022-01-03\n",
      "dtype: datetime64[ns]\n"
     ]
    }
   ],
   "source": [
    "series = pd.Series(data = pd.date_range(\"2022-01-01\", periods = 3))\n",
    "\n",
    "print(series)"
   ]
  },
  {
   "cell_type": "markdown",
   "id": "fb82b54d",
   "metadata": {},
   "source": [
    "## Задание 9 "
   ]
  },
  {
   "cell_type": "markdown",
   "id": "8581d05e",
   "metadata": {},
   "source": [
    "На вход подаются два целых числа n и m через пробел. На их основе создать\n",
    "объект Series с числами от n до m (включительно) с шагом 10 и метками [1, 3, 5,\n",
    "7,...] . Вывести его на печать."
   ]
  },
  {
   "cell_type": "code",
   "execution_count": 39,
   "id": "9c539a9b",
   "metadata": {},
   "outputs": [
    {
     "name": "stdout",
     "output_type": "stream",
     "text": [
      "n: 11\n",
      "m: 67\n",
      "1     11\n",
      "3     21\n",
      "5     31\n",
      "7     41\n",
      "9     51\n",
      "11    61\n",
      "dtype: int32\n"
     ]
    }
   ],
   "source": [
    "n = int(input(\"n: \"))\n",
    "m = int(input(\"m: \"))\n",
    "\n",
    "series = pd.Series(np.arange(int(n), int(m), 10))\n",
    "series = series.rename(lambda x: 2 * x + 1)\n",
    "\n",
    "print(series)"
   ]
  },
  {
   "cell_type": "markdown",
   "id": "6fdf81a6",
   "metadata": {},
   "source": [
    "## Индивидуальное задание "
   ]
  },
  {
   "cell_type": "markdown",
   "id": "68fa9d12",
   "metadata": {},
   "source": [
    "Создать объект Series из словаря, содержащего наименование товара и его цену, отсортировать словарь по цене товара и вывести его на печать."
   ]
  },
  {
   "cell_type": "code",
   "execution_count": 51,
   "id": "1a4e2c8f",
   "metadata": {},
   "outputs": [
    {
     "name": "stdout",
     "output_type": "stream",
     "text": [
      "Рис        99\n",
      "Гречка     89\n",
      "Молоко     85\n",
      "Сметана    70\n",
      "Печенье    49\n",
      "Сникерс    29\n",
      "Сырок      15\n",
      "dtype: object\n"
     ]
    }
   ],
   "source": [
    "my_dict = {\n",
    "    \"Молоко\":'85',\n",
    "    \"Сметана\":'70',\n",
    "    \"Печенье\":'49',\n",
    "    \"Сникерс\":'29',\n",
    "    \"Гречка\":'89',\n",
    "    \"Сырок\":'15',\n",
    "    \"Рис\":'99'\n",
    "}\n",
    "\n",
    "\n",
    "series = pd.Series(my_dict)\n",
    "sort = series.sort_values(ascending = False)\n",
    "\n",
    "print(sort)"
   ]
  }
 ],
 "metadata": {
  "kernelspec": {
   "display_name": "Python 3 (ipykernel)",
   "language": "python",
   "name": "python3"
  },
  "language_info": {
   "codemirror_mode": {
    "name": "ipython",
    "version": 3
   },
   "file_extension": ".py",
   "mimetype": "text/x-python",
   "name": "python",
   "nbconvert_exporter": "python",
   "pygments_lexer": "ipython3",
   "version": "3.9.13"
  }
 },
 "nbformat": 4,
 "nbformat_minor": 5
}
